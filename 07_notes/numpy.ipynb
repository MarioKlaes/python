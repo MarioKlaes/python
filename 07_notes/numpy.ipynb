{
 "cells": [
  {
   "cell_type": "markdown",
   "metadata": {},
   "source": [
    "# \"numpy\" study"
   ]
  },
  {
   "cell_type": "code",
   "execution_count": 4,
   "metadata": {},
   "outputs": [
    {
     "name": "stdout",
     "output_type": "stream",
     "text": [
      "number of dimensions 2\n",
      "shape (2, 3)\n",
      "data type int32\n"
     ]
    }
   ],
   "source": [
    "import numpy as np\n",
    "\n",
    "a = np.array([[1,2,3],\n",
    "              [3,2,1]])\n",
    "\n",
    "print (\"number of dimensions\",a.ndim)\n",
    "print (\"shape\",a.shape)\n",
    "print (\"data type\",a.dtype)\n"
   ]
  },
  {
   "cell_type": "code",
   "execution_count": 7,
   "metadata": {},
   "outputs": [
    {
     "name": "stdout",
     "output_type": "stream",
     "text": [
      "[[[0. 0.]\n",
      "  [0. 0.]\n",
      "  [0. 0.]]\n",
      "\n",
      " [[0. 0.]\n",
      "  [0. 0.]\n",
      "  [0. 0.]]]\n"
     ]
    }
   ],
   "source": [
    "a = np.zeros((2,3,2))\n",
    "\n",
    "print (a)"
   ]
  },
  {
   "cell_type": "code",
   "execution_count": 8,
   "metadata": {},
   "outputs": [
    {
     "data": {
      "text/plain": [
       "array([[[1., 1.],\n",
       "        [1., 1.],\n",
       "        [1., 1.]],\n",
       "\n",
       "       [[1., 1.],\n",
       "        [1., 1.],\n",
       "        [1., 1.]]])"
      ]
     },
     "execution_count": 8,
     "metadata": {},
     "output_type": "execute_result"
    }
   ],
   "source": [
    "np.ones_like(a)\n"
   ]
  },
  {
   "cell_type": "code",
   "execution_count": 9,
   "metadata": {},
   "outputs": [
    {
     "data": {
      "text/plain": [
       "array([1, 2, 3, 4, 5, 6, 7, 8, 9])"
      ]
     },
     "execution_count": 9,
     "metadata": {},
     "output_type": "execute_result"
    }
   ],
   "source": [
    "np.arange(1,10,1)"
   ]
  },
  {
   "cell_type": "code",
   "execution_count": 10,
   "metadata": {},
   "outputs": [
    {
     "data": {
      "text/plain": [
       "array([0. , 0.1, 0.2, 0.3, 0.4, 0.5, 0.6, 0.7, 0.8, 0.9])"
      ]
     },
     "execution_count": 10,
     "metadata": {},
     "output_type": "execute_result"
    }
   ],
   "source": [
    "np.arange(0 , 1 , 0.1)"
   ]
  },
  {
   "cell_type": "code",
   "execution_count": 14,
   "metadata": {},
   "outputs": [
    {
     "data": {
      "text/plain": [
       "array([[9, 9, 4, 8],\n",
       "       [8, 1, 5, 3],\n",
       "       [6, 3, 3, 3]])"
      ]
     },
     "execution_count": 14,
     "metadata": {},
     "output_type": "execute_result"
    }
   ],
   "source": [
    "np.random.seed(100) # when the seed is fixed it sets the initial state of the Python randon number generation algoritm\n",
    "                    # so the random numbers will always be the same\n",
    "                    # this helps in machine learinig model ... this way the results are predictable \n",
    "np.random.randint(1 , 10 , (3,4))\n"
   ]
  },
  {
   "cell_type": "code",
   "execution_count": 16,
   "metadata": {},
   "outputs": [
    {
     "name": "stdout",
     "output_type": "stream",
     "text": [
      "[1 1 1 1 1 2 2 2 2 2 3 3 3 3 3 4 4 4 4 4 5 5 5 5 5]\n"
     ]
    }
   ],
   "source": [
    "onedim_arr = np.array([1,2,3,4,5])\n",
    "\n",
    "multidim_arr = np.repeat (onedim_arr,5)\n",
    "\n",
    "print (multidim_arr)"
   ]
  },
  {
   "cell_type": "code",
   "execution_count": 19,
   "metadata": {},
   "outputs": [
    {
     "name": "stdout",
     "output_type": "stream",
     "text": [
      "[[1 2 3 4 5]\n",
      " [1 2 3 4 5]\n",
      " [1 2 3 4 5]\n",
      " [1 2 3 4 5]\n",
      " [1 2 3 4 5]]\n",
      "[[1 1 1 1 1]\n",
      " [2 2 2 2 2]\n",
      " [3 3 3 3 3]\n",
      " [4 4 4 4 4]\n",
      " [5 5 5 5 5]]\n"
     ]
    }
   ],
   "source": [
    "#create a multi dimensional array based on a tile 'onedim_arr' ... and receive the size of the array (5,1)\n",
    "multidim_arr = np.tile (onedim_arr,(5,1))\n",
    "print (multidim_arr)\n",
    "\n",
    "\n",
    "print (multidim_arr.T) #T = transpose"
   ]
  },
  {
   "cell_type": "code",
   "execution_count": 27,
   "metadata": {},
   "outputs": [
    {
     "name": "stdout",
     "output_type": "stream",
     "text": [
      "[ 5 10 15 20]\n",
      "[5 6 7 8]\n",
      "[ 0  4  8 12]\n",
      "[10 20 30 40]\n",
      "sum: 50\n",
      "max: 20\n",
      "min: 5\n",
      "mean 12.5\n",
      "median 12.5\n"
     ]
    }
   ],
   "source": [
    "arr1 = np.array([5,10,15,20])\n",
    "print(arr1)\n",
    "\n",
    "arr2 = np.arange(5,9)\n",
    "print(arr2)\n",
    "\n",
    "print(arr1 - arr2)\n",
    "\n",
    "print(arr1 *2)\n",
    "\n",
    "print(\"sum:\",arr1.sum())\n",
    "\n",
    "print(\"max:\",arr1.max())\n",
    "\n",
    "print(\"min:\",arr1.min())\n",
    "\n",
    "print(\"mean\",arr1.mean())\n",
    "\n",
    "print(\"median\",np.median(arr1))\n",
    "\n"
   ]
  },
  {
   "cell_type": "code",
   "execution_count": 29,
   "metadata": {},
   "outputs": [
    {
     "name": "stdout",
     "output_type": "stream",
     "text": [
      "[[  0  10  20  30]\n",
      " [ 40  50  60  70]\n",
      " [ 80  90 100 110]]\n"
     ]
    }
   ],
   "source": [
    "tens = np.arange(0,120,10).reshape(3,4)\n",
    "\n",
    "print(tens)"
   ]
  },
  {
   "cell_type": "code",
   "execution_count": 33,
   "metadata": {},
   "outputs": [
    {
     "name": "stdout",
     "output_type": "stream",
     "text": [
      "[ -5 -10 -15 -20]\n",
      "-> [[-5  0  5 10]\n",
      " [35 40 45 50]\n",
      " [75 80 85 90]]\n"
     ]
    }
   ],
   "source": [
    "horizontal = np.array([-5,-10,-15,-20])\n",
    "\n",
    "print (horizontal)\n",
    "\n",
    "\n",
    "print (\"->\", tens + horizontal)"
   ]
  },
  {
   "cell_type": "code",
   "execution_count": 39,
   "metadata": {},
   "outputs": [
    {
     "name": "stdout",
     "output_type": "stream",
     "text": [
      "[[  0  10  20  30]\n",
      " [ 40  50  60  70]\n",
      " [ 80  90 100 110]]\n",
      "Mean across column: [40. 50. 60. 70.]\n",
      "Mean across row: [15. 55. 95.]\n"
     ]
    }
   ],
   "source": [
    "# axis = 0 column-wise operations ... down the rows\n",
    "# axis = 1 row-wise operations ... across the colums\n",
    "\n",
    "tens = np.arange(0,120,10).reshape(3,4)\n",
    "print (tens)\n",
    "\n",
    "# mean across colum\n",
    "print (\"Mean across column:\",tens.mean(axis=0))\n",
    "\n",
    "# mean across row\n",
    "print (\"Mean across row:\",tens.mean(axis=1))"
   ]
  },
  {
   "cell_type": "code",
   "execution_count": 44,
   "metadata": {},
   "outputs": [
    {
     "name": "stdout",
     "output_type": "stream",
     "text": [
      "m1: [[ 4  7  4  5]\n",
      " [ 8  7  4 10]\n",
      " [ 1  5  5  6]]\n",
      "m2: [[ 4  7  4  5]\n",
      " [ 8  7  4 10]\n",
      " [ 1  5  5  6]]\n",
      "m3: [[ 4  7  4  5]\n",
      " [ 8  7  4 10]\n",
      " [ 1  5  5  6]]\n"
     ]
    }
   ],
   "source": [
    "\n",
    "matrix1 = np.random.randint(1,11,12).reshape (3,4)\n",
    "\n",
    "print (\"m1:\",matrix1)\n",
    "\n",
    "matrix2 = matrix1\n",
    "\n",
    "print (\"m2:\",matrix2)\n",
    "\n",
    "matrix3 = matrix1.copy()\n",
    "\n",
    "print (\"m3:\",matrix3)"
   ]
  },
  {
   "cell_type": "code",
   "execution_count": 45,
   "metadata": {},
   "outputs": [
    {
     "name": "stdout",
     "output_type": "stream",
     "text": [
      "m1: [[-10   7   4   5]\n",
      " [  8   7   4  10]\n",
      " [  1   5   5   6]]\n",
      "m2: [[-10   7   4   5]\n",
      " [  8   7   4  10]\n",
      " [  1   5   5   6]]\n",
      "m3: [[ 4  7  4  5]\n",
      " [ 8  7  4 10]\n",
      " [ 1  5  5  6]]\n"
     ]
    }
   ],
   "source": [
    "matrix2[0,0] = -10\n",
    "\n",
    "print (\"m1:\",matrix1)\n",
    "\n",
    "print (\"m2:\",matrix2)\n",
    "\n",
    "print (\"m3:\",matrix3)"
   ]
  }
 ],
 "metadata": {
  "kernelspec": {
   "display_name": "dsi_participant",
   "language": "python",
   "name": "python3"
  },
  "language_info": {
   "codemirror_mode": {
    "name": "ipython",
    "version": 3
   },
   "file_extension": ".py",
   "mimetype": "text/x-python",
   "name": "python",
   "nbconvert_exporter": "python",
   "pygments_lexer": "ipython3",
   "version": "3.9.15"
  }
 },
 "nbformat": 4,
 "nbformat_minor": 2
}
