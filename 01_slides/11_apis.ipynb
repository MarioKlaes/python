{
 "cells": [
  {
   "cell_type": "markdown",
   "metadata": {},
   "source": [
    "# APIs\n",
    "\n",
    "# What is a API?\n",
    "\n",
    "- API stands for Application Programming Interface\n",
    "- Allows software programs to communicate with each other\n",
    "- Provides structured way to communicate between applications and devices (expose data and functionality)\n",
    "- Allows other developers to access and integrate with an application without needing to understand complex implementation details\n",
    "\n",
    "# Have we used an API before?\n",
    "\n",
    "YES!!! We used numPy and soon, and later on in the program, we will use pandas."
   ]
  },
  {
   "cell_type": "markdown",
   "metadata": {},
   "source": [
    "## Exercise 1\n",
    "\n",
    "We will call the Open Meteo API!"
   ]
  },
  {
   "cell_type": "code",
   "execution_count": null,
   "metadata": {},
   "outputs": [],
   "source": [
    "import requests\n",
    "\n",
    "url = \"https://api.open-meteo.com/v1/forecast\"\n",
    "params = {\n",
    "  \"latitude\": 43.7001,\n",
    "  \"longitude\": -79.4163,\n",
    "  \"hourly\": \"temperature_2m\"\n",
    "}\n",
    "data = requests.get(url, params).json()\n",
    "\n",
    "print(data)\n"
   ]
  },
  {
   "cell_type": "markdown",
   "metadata": {},
   "source": [
    "# Why Web APIs?\n",
    "\n",
    "- Your program can interact with the world\n",
    "- Data from more than just files on the computer\n",
    "  - Updated datasets\n",
    "  - Industrial sensors\n",
    "- Effects and outcomes on real-world objects\n",
    "  - Smart home control\n",
    "  - Mobile notifications\n",
    "\n",
    "## The RESTful Web API\n",
    "- The RESTful Web APIs are a quasi-standard method of performing actions using or exchanging data with web-connected services\n",
    "  - e.g. Retrieve list of repositories from GitHub\n",
    "  - e.g. Using GPT-4 to process datasets automatically\n",
    "  - e.g. Starting and stopping a container hosted on Microsoft Azure\n",
    "- REST: “Representational State Transfer”\n",
    "  - Uses HTTP requests: GET, POST, (PUT), (DELETE)\n",
    "  - Generally, returns data in machine-readable formats like JSON\n",
    "- Uniform interface\n",
    "  - Every entity (piece of data) is generally retrieved from the same URI\n",
    "- Client-server decoupling\n",
    "  - The web interface is assumed to be the only link between the client and the server\n",
    "  - Data isn’t getting passed through a separate channel (e.g. file on hard drive)\n",
    "- Statelessness\n",
    "  - All required information is included in the request\n",
    "  - Identity is established on every request (usually via a secret token)\n",
    "\n",
    "## Exercise 2\n",
    "Read the API document [here](https://open-meteo.com/en/docs)(scrol down to API Documentation), and play around with the code again, and answer the following questions:"
   ]
  },
  {
   "cell_type": "code",
   "execution_count": null,
   "metadata": {},
   "outputs": [],
   "source": [
    "# 1. What is the current temperature in Tokyo, Japan?\n",
    "# Play with this code again!\n",
    "\n",
    "import requests\n",
    "\n",
    "url = \"https://api.open-meteo.com/v1/forecast\"\n",
    "params = {\n",
    "  \"latitude\": 43.7001,\n",
    "  \"longitude\": -79.4163,\n",
    "  \"hourly\": \"temperature_2m\"\n",
    "}\n",
    "data = requests.get(url, params).json()\n",
    "\n",
    "print(data)"
   ]
  },
  {
   "cell_type": "code",
   "execution_count": 1,
   "metadata": {},
   "outputs": [
    {
     "name": "stdout",
     "output_type": "stream",
     "text": [
      "{'latitude': 43.70455, 'longitude': -79.4046, 'generationtime_ms': 0.01800060272216797, 'utc_offset_seconds': 0, 'timezone': 'GMT', 'timezone_abbreviation': 'GMT', 'elevation': 175.0, 'hourly_units': {'time': 'iso8601', 'temperature_2m': '°C'}, 'hourly': {'time': ['2024-04-30T00:00', '2024-04-30T01:00', '2024-04-30T02:00', '2024-04-30T03:00', '2024-04-30T04:00', '2024-04-30T05:00', '2024-04-30T06:00', '2024-04-30T07:00', '2024-04-30T08:00', '2024-04-30T09:00', '2024-04-30T10:00', '2024-04-30T11:00', '2024-04-30T12:00', '2024-04-30T13:00', '2024-04-30T14:00', '2024-04-30T15:00', '2024-04-30T16:00', '2024-04-30T17:00', '2024-04-30T18:00', '2024-04-30T19:00', '2024-04-30T20:00', '2024-04-30T21:00', '2024-04-30T22:00', '2024-04-30T23:00', '2024-05-01T00:00', '2024-05-01T01:00', '2024-05-01T02:00', '2024-05-01T03:00', '2024-05-01T04:00', '2024-05-01T05:00', '2024-05-01T06:00', '2024-05-01T07:00', '2024-05-01T08:00', '2024-05-01T09:00', '2024-05-01T10:00', '2024-05-01T11:00', '2024-05-01T12:00', '2024-05-01T13:00', '2024-05-01T14:00', '2024-05-01T15:00', '2024-05-01T16:00', '2024-05-01T17:00', '2024-05-01T18:00', '2024-05-01T19:00', '2024-05-01T20:00', '2024-05-01T21:00', '2024-05-01T22:00', '2024-05-01T23:00', '2024-05-02T00:00', '2024-05-02T01:00', '2024-05-02T02:00', '2024-05-02T03:00', '2024-05-02T04:00', '2024-05-02T05:00', '2024-05-02T06:00', '2024-05-02T07:00', '2024-05-02T08:00', '2024-05-02T09:00', '2024-05-02T10:00', '2024-05-02T11:00', '2024-05-02T12:00', '2024-05-02T13:00', '2024-05-02T14:00', '2024-05-02T15:00', '2024-05-02T16:00', '2024-05-02T17:00', '2024-05-02T18:00', '2024-05-02T19:00', '2024-05-02T20:00', '2024-05-02T21:00', '2024-05-02T22:00', '2024-05-02T23:00', '2024-05-03T00:00', '2024-05-03T01:00', '2024-05-03T02:00', '2024-05-03T03:00', '2024-05-03T04:00', '2024-05-03T05:00', '2024-05-03T06:00', '2024-05-03T07:00', '2024-05-03T08:00', '2024-05-03T09:00', '2024-05-03T10:00', '2024-05-03T11:00', '2024-05-03T12:00', '2024-05-03T13:00', '2024-05-03T14:00', '2024-05-03T15:00', '2024-05-03T16:00', '2024-05-03T17:00', '2024-05-03T18:00', '2024-05-03T19:00', '2024-05-03T20:00', '2024-05-03T21:00', '2024-05-03T22:00', '2024-05-03T23:00', '2024-05-04T00:00', '2024-05-04T01:00', '2024-05-04T02:00', '2024-05-04T03:00', '2024-05-04T04:00', '2024-05-04T05:00', '2024-05-04T06:00', '2024-05-04T07:00', '2024-05-04T08:00', '2024-05-04T09:00', '2024-05-04T10:00', '2024-05-04T11:00', '2024-05-04T12:00', '2024-05-04T13:00', '2024-05-04T14:00', '2024-05-04T15:00', '2024-05-04T16:00', '2024-05-04T17:00', '2024-05-04T18:00', '2024-05-04T19:00', '2024-05-04T20:00', '2024-05-04T21:00', '2024-05-04T22:00', '2024-05-04T23:00', '2024-05-05T00:00', '2024-05-05T01:00', '2024-05-05T02:00', '2024-05-05T03:00', '2024-05-05T04:00', '2024-05-05T05:00', '2024-05-05T06:00', '2024-05-05T07:00', '2024-05-05T08:00', '2024-05-05T09:00', '2024-05-05T10:00', '2024-05-05T11:00', '2024-05-05T12:00', '2024-05-05T13:00', '2024-05-05T14:00', '2024-05-05T15:00', '2024-05-05T16:00', '2024-05-05T17:00', '2024-05-05T18:00', '2024-05-05T19:00', '2024-05-05T20:00', '2024-05-05T21:00', '2024-05-05T22:00', '2024-05-05T23:00', '2024-05-06T00:00', '2024-05-06T01:00', '2024-05-06T02:00', '2024-05-06T03:00', '2024-05-06T04:00', '2024-05-06T05:00', '2024-05-06T06:00', '2024-05-06T07:00', '2024-05-06T08:00', '2024-05-06T09:00', '2024-05-06T10:00', '2024-05-06T11:00', '2024-05-06T12:00', '2024-05-06T13:00', '2024-05-06T14:00', '2024-05-06T15:00', '2024-05-06T16:00', '2024-05-06T17:00', '2024-05-06T18:00', '2024-05-06T19:00', '2024-05-06T20:00', '2024-05-06T21:00', '2024-05-06T22:00', '2024-05-06T23:00'], 'temperature_2m': [8.8, 9.4, 9.5, 9.5, 9.5, 10.1, 10.1, 10.0, 10.0, 9.8, 9.6, 9.3, 9.6, 9.7, 9.2, 10.4, 10.0, 9.8, 11.7, 11.6, 13.2, 15.0, 11.2, 10.5, 10.4, 10.4, 9.9, 9.3, 8.9, 9.1, 9.4, 9.2, 8.4, 8.5, 8.4, 8.5, 8.7, 9.2, 9.8, 9.9, 13.3, 14.4, 16.4, 17.1, 15.9, 15.0, 13.4, 13.2, 12.7, 11.4, 10.3, 10.8, 10.6, 10.0, 9.8, 9.2, 9.0, 8.7, 8.7, 9.6, 10.1, 10.4, 11.4, 12.9, 13.7, 15.2, 15.8, 16.5, 16.6, 16.5, 16.1, 14.9, 13.6, 12.5, 11.9, 11.4, 11.0, 10.8, 10.5, 10.1, 9.9, 9.6, 9.5, 9.6, 10.4, 11.7, 12.9, 13.7, 15.0, 16.0, 16.8, 17.3, 17.1, 16.7, 14.7, 13.9, 13.9, 13.8, 13.5, 12.8, 12.1, 12.0, 12.1, 12.1, 12.1, 12.0, 12.0, 12.0, 12.3, 12.7, 12.6, 12.8, 13.3, 15.9, 17.1, 15.7, 14.9, 14.7, 14.8, 14.1, 13.0, 12.6, 12.7, 12.2, 11.6, 11.3, 11.0, 10.8, 10.7, 10.7, 10.8, 10.7, 10.9, 11.7, 12.8, 13.6, 13.7, 13.5, 13.7, 15.1, 16.9, 17.9, 17.4, 16.1, 14.8, 13.7, 12.5, 11.5, 10.8, 10.4, 9.9, 9.4, 9.0, 8.8, 9.1, 9.7, 10.6, 12.2, 14.1, 15.8, 17.2, 18.4, 19.3, 20.0, 20.3, 20.0, 18.8, 17.0]}}\n"
     ]
    }
   ],
   "source": [
    "# 2. How would you include hourly weather code as part of the JSON response?\n",
    "# Play with this code again!\n",
    "\n",
    "import requests\n",
    "\n",
    "url = \"https://api.open-meteo.com/v1/forecast\"\n",
    "params = {\n",
    "  \"latitude\": 43.7001,\n",
    "  \"longitude\": -79.4163,\n",
    "  \"hourly\": \"temperature_2m\"\n",
    "}\n",
    "data = requests.get(url, params).json()\n",
    "\n",
    "print(data)"
   ]
  },
  {
   "cell_type": "code",
   "execution_count": null,
   "metadata": {},
   "outputs": [],
   "source": [
    "# 3. How about getting the current weather code only?\n",
    "# Play with this code again!\n",
    "\n",
    "import requests\n",
    "\n",
    "url = \"https://api.open-meteo.com/v1/forecast\"\n",
    "params = {\n",
    "  \"latitude\": 43.7001,\n",
    "  \"longitude\": -79.4163,\n",
    "  \"hourly\": \"temperature_2m\"\n",
    "}\n",
    "data = requests.get(url, params).json()\n",
    "\n",
    "print(data)"
   ]
  }
 ],
 "metadata": {
  "kernelspec": {
   "display_name": "Python 3",
   "language": "python",
   "name": "python3"
  },
  "language_info": {
   "codemirror_mode": {
    "name": "ipython",
    "version": 3
   },
   "file_extension": ".py",
   "mimetype": "text/x-python",
   "name": "python",
   "nbconvert_exporter": "python",
   "pygments_lexer": "ipython3",
   "version": "3.9.15"
  }
 },
 "nbformat": 4,
 "nbformat_minor": 2
}
