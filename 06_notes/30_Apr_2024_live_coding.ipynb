{
 "cells": [
  {
   "cell_type": "code",
   "execution_count": 17,
   "metadata": {},
   "outputs": [
    {
     "name": "stdout",
     "output_type": "stream",
     "text": [
      "1.6666666666666667\n"
     ]
    }
   ],
   "source": [
    "print (5 / 3) #division"
   ]
  },
  {
   "cell_type": "code",
   "execution_count": 18,
   "metadata": {},
   "outputs": [
    {
     "ename": "SyntaxError",
     "evalue": "invalid syntax (949138808.py, line 1)",
     "output_type": "error",
     "traceback": [
      "\u001b[1;36m  Cell \u001b[1;32mIn[18], line 1\u001b[1;36m\u001b[0m\n\u001b[1;33m    round () -> will tell how many decimal digits it will have\u001b[0m\n\u001b[1;37m             ^\u001b[0m\n\u001b[1;31mSyntaxError\u001b[0m\u001b[1;31m:\u001b[0m invalid syntax\n"
     ]
    }
   ],
   "source": [
    "round () -> will tell how many decimal digits it will have"
   ]
  },
  {
   "cell_type": "code",
   "execution_count": null,
   "metadata": {},
   "outputs": [
    {
     "data": {
      "text/plain": [
       "1.67"
      ]
     },
     "execution_count": 9,
     "metadata": {},
     "output_type": "execute_result"
    }
   ],
   "source": [
    "round (5 / 3, 2)"
   ]
  },
  {
   "cell_type": "code",
   "execution_count": null,
   "metadata": {},
   "outputs": [
    {
     "name": "stdout",
     "output_type": "stream",
     "text": [
      "1\n"
     ]
    }
   ],
   "source": [
    "print (5 // 3) #flor division"
   ]
  },
  {
   "cell_type": "code",
   "execution_count": null,
   "metadata": {},
   "outputs": [
    {
     "data": {
      "text/plain": [
       "2"
      ]
     },
     "execution_count": 6,
     "metadata": {},
     "output_type": "execute_result"
    }
   ],
   "source": [
    "5 % 3 #remainder"
   ]
  },
  {
   "cell_type": "code",
   "execution_count": null,
   "metadata": {},
   "outputs": [
    {
     "data": {
      "text/plain": [
       "125"
      ]
     },
     "execution_count": 7,
     "metadata": {},
     "output_type": "execute_result"
    }
   ],
   "source": [
    "5 ** 3 # 5 to the power of 3"
   ]
  },
  {
   "cell_type": "code",
   "execution_count": null,
   "metadata": {},
   "outputs": [
    {
     "ename": "NameError",
     "evalue": "name 'true' is not defined",
     "output_type": "error",
     "traceback": [
      "\u001b[1;31m---------------------------------------------------------------------------\u001b[0m",
      "\u001b[1;31mNameError\u001b[0m                                 Traceback (most recent call last)",
      "Cell \u001b[1;32mIn[10], line 2\u001b[0m\n\u001b[0;32m      1\u001b[0m \u001b[38;5;28;01mTrue\u001b[39;00m \u001b[38;5;66;03m# boolean data type\u001b[39;00m\n\u001b[1;32m----> 2\u001b[0m \u001b[43mtrue\u001b[49m \u001b[38;5;66;03m# nothing special LOL\u001b[39;00m\n",
      "\u001b[1;31mNameError\u001b[0m: name 'true' is not defined"
     ]
    }
   ],
   "source": [
    "True # boolean data type\n",
    "true # nothing special LOL"
   ]
  },
  {
   "cell_type": "code",
   "execution_count": null,
   "metadata": {},
   "outputs": [
    {
     "data": {
      "text/plain": [
       "True"
      ]
     },
     "execution_count": 11,
     "metadata": {},
     "output_type": "execute_result"
    }
   ],
   "source": [
    "50 > 25"
   ]
  },
  {
   "cell_type": "code",
   "execution_count": null,
   "metadata": {},
   "outputs": [
    {
     "data": {
      "text/plain": [
       "10"
      ]
     },
     "execution_count": 14,
     "metadata": {},
     "output_type": "execute_result"
    }
   ],
   "source": [
    "2 + 2 ** 3"
   ]
  },
  {
   "cell_type": "code",
   "execution_count": null,
   "metadata": {},
   "outputs": [
    {
     "data": {
      "text/plain": [
       "10"
      ]
     },
     "execution_count": 15,
     "metadata": {},
     "output_type": "execute_result"
    }
   ],
   "source": [
    "2 ** 3 + 2"
   ]
  },
  {
   "cell_type": "code",
   "execution_count": 19,
   "metadata": {},
   "outputs": [],
   "source": [
    "degree_celsius = 10\n",
    "Degree_delsius = 20\n",
    "Degree_Celsius = 30\n",
    "\n",
    "f = (9/5) * degree_celsius + 32\n"
   ]
  },
  {
   "cell_type": "code",
   "execution_count": 23,
   "metadata": {},
   "outputs": [
    {
     "data": {
      "text/plain": [
       "15"
      ]
     },
     "execution_count": 23,
     "metadata": {},
     "output_type": "execute_result"
    }
   ],
   "source": [
    "2 + (2 * 2) + (3 * 3)"
   ]
  },
  {
   "cell_type": "code",
   "execution_count": 27,
   "metadata": {},
   "outputs": [
    {
     "name": "stdout",
     "output_type": "stream",
     "text": [
      "a: 1680368888112  b: 1680368888112\n"
     ]
    }
   ],
   "source": [
    "a = 1 # a points to the memory position with 1\n",
    "b = a # b points to the same position as A\n",
    "print(\"a:\",id(a),\" b:\", id(b)) "
   ]
  },
  {
   "cell_type": "code",
   "execution_count": 26,
   "metadata": {},
   "outputs": [
    {
     "name": "stdout",
     "output_type": "stream",
     "text": [
      "a: 1680368888112  b: 1680368888144\n"
     ]
    }
   ],
   "source": [
    "a = 1 # a points to the memory position of 1\n",
    "b = 2 # b points to the memory position of 2\n",
    "print(\"a:\",id(a),\" b:\", id(b))"
   ]
  },
  {
   "cell_type": "code",
   "execution_count": 1,
   "metadata": {},
   "outputs": [
    {
     "name": "stdout",
     "output_type": "stream",
     "text": [
      "[<built-in function len>, <built-in function sum>, <built-in function max>, <built-in function min>]\n"
     ]
    }
   ],
   "source": [
    "summary_functions=[len,sum,max,min]\n",
    "\n",
    "print (summary_functions)"
   ]
  },
  {
   "cell_type": "code",
   "execution_count": 2,
   "metadata": {},
   "outputs": [],
   "source": [
    "mystery_solvers = [['Sherlock','Watson'],\n",
    "                   ['Scooby','Shaggy','Fred','Veldma','Daphne'],\n",
    "                   ['Nancy']\n",
    "                   ]"
   ]
  },
  {
   "cell_type": "code",
   "execution_count": 4,
   "metadata": {},
   "outputs": [
    {
     "data": {
      "text/plain": [
       "[1, 2, 3, 4]"
      ]
     },
     "execution_count": 4,
     "metadata": {},
     "output_type": "execute_result"
    }
   ],
   "source": [
    "grades =[1,2,3,4,5,6,7,8,9,10,11,12]\n",
    "\n",
    "grades[:4]"
   ]
  },
  {
   "cell_type": "code",
   "execution_count": 5,
   "metadata": {},
   "outputs": [],
   "source": [
    "sandwich = ['bread', 'cheese','bread']\n",
    "\n",
    "sandwich_copy = sandwich #both variables are pointing to the same list"
   ]
  },
  {
   "cell_type": "code",
   "execution_count": 6,
   "metadata": {},
   "outputs": [
    {
     "data": {
      "text/plain": [
       "['bread', 'tuna', 'bread']"
      ]
     },
     "execution_count": 6,
     "metadata": {},
     "output_type": "execute_result"
    }
   ],
   "source": [
    "sandwich[1] = 'tuna'\n",
    "\n",
    "sandwich_copy #use 1 variable to change the value also changed the other \n",
    "              #  because both bariables are pointng to the same memory location"
   ]
  },
  {
   "cell_type": "code",
   "execution_count": 13,
   "metadata": {},
   "outputs": [
    {
     "name": "stdout",
     "output_type": "stream",
     "text": [
      "['bread', 'tuna', 'bread'] ['bread', 'tuna', 'bread']\n",
      "['bread', 'tuna', 'bread'] ['bread', 'cheese again', 'bread']\n"
     ]
    }
   ],
   "source": [
    "#to have 2 variables, one with a copy of the list use ...\n",
    "\n",
    "sandwich_copy = sandwich.copy() #copy a list\n",
    "\n",
    "sandwich_copy = list(sandwich)\n",
    "\n",
    "print(sandwich , sandwich_copy)\n",
    "\n",
    "sandwich_copy[1] = 'cheese again'\n",
    "\n",
    "print(sandwich , sandwich_copy)\n",
    "\n"
   ]
  },
  {
   "cell_type": "code",
   "execution_count": 14,
   "metadata": {},
   "outputs": [
    {
     "name": "stdout",
     "output_type": "stream",
     "text": [
      "['bread', 'tuna', 'bread'] ['bread', 'tuna', 'bread']\n",
      "['bread', 'tuna', 'bread'] ['bread', 'cheese again', 'bread']\n"
     ]
    }
   ],
   "source": [
    "#to have 2 variables, one with a copy of the list use ...\n",
    "\n",
    "sandwich_copy = list(sandwich) #create a list based on another\n",
    "\n",
    "print(sandwich , sandwich_copy)\n",
    "\n",
    "sandwich_copy[1] = 'cheese again'\n",
    "\n",
    "print(sandwich , sandwich_copy)"
   ]
  },
  {
   "cell_type": "code",
   "execution_count": 12,
   "metadata": {},
   "outputs": [
    {
     "data": {
      "text/plain": [
       "[1, 2, 1, 2]"
      ]
     },
     "execution_count": 12,
     "metadata": {},
     "output_type": "execute_result"
    }
   ],
   "source": [
    "numbers = [1,2,3,4]\n",
    "\n",
    "numbers[:2] * 2"
   ]
  },
  {
   "cell_type": "code",
   "execution_count": 24,
   "metadata": {},
   "outputs": [
    {
     "name": "stdout",
     "output_type": "stream",
     "text": [
      "['red', 'orange', 'yellow', 'green', 'light blue', 'blue', 'violet']\n",
      "['red', 'orange', 'yellow', 'green', 'light blue', 'blue', 'violet', 'purple']\n",
      "['red', 'orange', 'yellow', 'green', 'light blue', 'blue', 'violet', 'purple', 'magenta', 'pink']\n",
      "['red', 'orange', 'yellow', 'green', 'light blue', 'blue', 'violet', 'purple', 'magenta', 'pink', 'r', 'e', 'd']\n",
      "['red', 'orange', 'yellow', 'green', 'light blue', 'blue', 'indigo', 'violet', 'purple', 'magenta', 'pink', 'r', 'e', 'd']\n",
      "['orange', 'yellow', 'green', 'light blue', 'blue', 'indigo', 'violet', 'purple', 'magenta', 'pink', 'r', 'e', 'd']\n"
     ]
    }
   ],
   "source": [
    "rainbow = ['red','orange','yellow','green','light blue','blue','violet']\n",
    "print(rainbow)\n",
    "\n",
    "rainbow.append('purple')\n",
    "print(rainbow)\n",
    "\n",
    "rainbow.extend(['magenta','pink']) #unpack the elements and add to the end of the list\n",
    "print(rainbow)\n",
    "\n",
    "rainbow.extend('red') #this will unpack the string into it's elements and add to the list\n",
    "print(rainbow)\n",
    "\n",
    "rainbow.insert(6,'indigo')\n",
    "print(rainbow)\n",
    "\n",
    "rainbow.remove ('red')\n",
    "print(rainbow)"
   ]
  },
  {
   "cell_type": "code",
   "execution_count": 26,
   "metadata": {},
   "outputs": [
    {
     "data": {
      "text/plain": [
       "['apple', 'banana', 'kiwi', 'pinapple']"
      ]
     },
     "execution_count": 26,
     "metadata": {},
     "output_type": "execute_result"
    }
   ],
   "source": [
    "fruits=['pinapple','banana','kiwi','apple']\n",
    "fruits.sort() #change the list sorting the elements\n",
    "fruits\n"
   ]
  },
  {
   "cell_type": "code",
   "execution_count": 31,
   "metadata": {},
   "outputs": [
    {
     "name": "stdout",
     "output_type": "stream",
     "text": [
      "sorted ['cabbage', 'celery', 'onion', 'potato']\n",
      "vegetables ['potato', 'onion', 'celery', 'cabbage']\n"
     ]
    }
   ],
   "source": [
    "vegetables=['potato','onion','celery','cabbage']\n",
    "\n",
    "print(\"sorted\",sorted(vegetables)) # sirted() - do not change the original list ... instead return a new list sorted\n",
    "\n",
    "print(\"vegetables\",vegetables)\n"
   ]
  },
  {
   "cell_type": "code",
   "execution_count": 33,
   "metadata": {},
   "outputs": [
    {
     "name": "stdout",
     "output_type": "stream",
     "text": [
      "['cabbage', 'onion', 'potato', 'celery']\n"
     ]
    }
   ],
   "source": [
    "def last_letter(text):\n",
    "    return text[-1]\n",
    "\n",
    "print (sorted(vegetables, key = last_letter))\n",
    "\n"
   ]
  },
  {
   "cell_type": "code",
   "execution_count": 35,
   "metadata": {},
   "outputs": [
    {
     "name": "stdout",
     "output_type": "stream",
     "text": [
      "[['Grade 11', 13], ['Grade 10', 17], ['Grade 9', 20], ['Grade 12', 22]]\n"
     ]
    }
   ],
   "source": [
    "def second_element(item):\n",
    "    return item[1] #get second element\n",
    "\n",
    "studens_per_class =[['Grade 9',20], ['Grade 10',17],['Grade 11',13],['Grade 12',22]]\n",
    "\n",
    "studens_per_class.sort(key=second_element)\n",
    "\n",
    "print (studens_per_class)\n",
    "\n"
   ]
  }
 ],
 "metadata": {
  "kernelspec": {
   "display_name": "dsi_participant",
   "language": "python",
   "name": "python3"
  },
  "language_info": {
   "codemirror_mode": {
    "name": "ipython",
    "version": 3
   },
   "file_extension": ".py",
   "mimetype": "text/x-python",
   "name": "python",
   "nbconvert_exporter": "python",
   "pygments_lexer": "ipython3",
   "version": "3.9.15"
  }
 },
 "nbformat": 4,
 "nbformat_minor": 2
}
