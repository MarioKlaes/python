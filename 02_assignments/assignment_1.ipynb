{
 "cells": [
  {
   "cell_type": "markdown",
   "metadata": {},
   "source": [
    "# Assignment #1: Anagram Checker\n",
    "\n",
    "**Background**: Anagram Checker is a program that takes two words and determines if an anagram can be made from it. If so, the program will return `true`, otherwise `false`."
   ]
  },
  {
   "cell_type": "markdown",
   "metadata": {},
   "source": [
    "### Part 1: Building the base Anagram Checker\n",
    "\n",
    "Given two valid strings, check to see if they are anagrams of each other. If it is, return `True`, else `False`. For this part, we can assume that uppercase letters are the same as if it was a lowercase character.\n",
    "\n",
    "Examples of anagrams:\n",
    "* Slient and Listen\n",
    "* Night and Think\n",
    "\n",
    "Example outputs:\n",
    "```python\n",
    "anagram_checker(\"Slient\", \"listen\") # True\n",
    "anagram_checker(\"Slient\", \"Night\") # False\n",
    "anagram_checker(\"night\", \"Thing\") # True\n",
    "```"
   ]
  },
  {
   "cell_type": "code",
   "execution_count": 40,
   "metadata": {},
   "outputs": [
    {
     "data": {
      "text/plain": [
       "True"
      ]
     },
     "execution_count": 40,
     "metadata": {},
     "output_type": "execute_result"
    }
   ],
   "source": [
    "# This is a function, which we will learn more about next week. For testing purposes, we will write our code in the function\n",
    "def anagram_checker(word_a, word_b):\n",
    "  # Your code here\n",
    "  word_a = word_a.lower() #eliminate upper case\n",
    "  word_b = word_b.lower() #eliminate upper case\n",
    "\n",
    "  for c in word_a:\n",
    "    if c not in word_b:\n",
    "      return False\n",
    "  return True\n",
    "\n",
    "# Run your code to check using the words below:\n",
    "anagram_checker(\"Slient\", \"listen\") # True"
   ]
  },
  {
   "cell_type": "code",
   "execution_count": 32,
   "metadata": {},
   "outputs": [
    {
     "data": {
      "text/plain": [
       "False"
      ]
     },
     "execution_count": 32,
     "metadata": {},
     "output_type": "execute_result"
    }
   ],
   "source": [
    "anagram_checker(\"Slient\", \"Night\") # False"
   ]
  },
  {
   "cell_type": "code",
   "execution_count": 33,
   "metadata": {},
   "outputs": [
    {
     "data": {
      "text/plain": [
       "True"
      ]
     },
     "execution_count": 33,
     "metadata": {},
     "output_type": "execute_result"
    }
   ],
   "source": [
    "anagram_checker(\"night\", \"Thing\") # True"
   ]
  },
  {
   "cell_type": "markdown",
   "metadata": {},
   "source": [
    "### Part 2: Expanding the functionality of the Anagram Checker\n",
    "\n",
    "Using your existing and functional anagram checker, let's add a boolean option called `is_case_sensitive`, which will return `True` or `False` based on if the two compared words are anagrams and if we are checking for case sensitivity."
   ]
  },
  {
   "cell_type": "code",
   "execution_count": 35,
   "metadata": {},
   "outputs": [
    {
     "data": {
      "text/plain": [
       "True"
      ]
     },
     "execution_count": 35,
     "metadata": {},
     "output_type": "execute_result"
    }
   ],
   "source": [
    "def anagram_checker(word_a, word_b, is_case_sensitive):\n",
    "  # Modify your existing code here\n",
    "  if (not is_case_sensitive):\n",
    "    word_a= word_a.lower() #eliminate upper case\n",
    "    word_b = word_b.lower() #eliminate upper case\n",
    "\n",
    "  #convert string into list\n",
    "  list_word_a = list(word_a)\n",
    "  list_word_b = list(word_b)\n",
    "  \n",
    "  #sort both lists\n",
    "  list_word_a.sort()\n",
    "  list_word_b.sort()\n",
    " \n",
    "  return (list_word_a == list_word_b) #return the boolean result of the comparison\n",
    "\n",
    "# Run your code to check using the words below:\n",
    "anagram_checker(\"Slient\", \"listen\", False) # True"
   ]
  },
  {
   "cell_type": "code",
   "execution_count": 9,
   "metadata": {},
   "outputs": [
    {
     "data": {
      "text/plain": [
       "False"
      ]
     },
     "execution_count": 9,
     "metadata": {},
     "output_type": "execute_result"
    }
   ],
   "source": [
    "anagram_checker(\"Slient\", \"Listen\", True) # False"
   ]
  },
  {
   "cell_type": "markdown",
   "metadata": {},
   "source": [
    "### Part 3: Expanding the functionality once more\n",
    "\n",
    "Given an array of words, check to see if they are anagrams of each other.\n",
    "\n",
    "```python\n",
    "anagram_checker([\"Slient\", \"night\"], [\"thing\", \"listen\"], False) # True\n",
    "anagram_checker([\"Slient\", \"thing\"], [\"night\", \"slient\"], True) # False\n",
    "```"
   ]
  },
  {
   "cell_type": "code",
   "execution_count": 36,
   "metadata": {},
   "outputs": [],
   "source": [
    "def anagram_checker(words_a, words_b, is_case_sensitive):\n",
    "  # Modify your existing code here\n",
    "  result = []\n",
    "  for w_a in words_a: #get 1 word from words_a\n",
    "    if (not is_case_sensitive): #if case sensitive FALSE change the words to lower case\n",
    "      w_a=w_a.lower()\n",
    "        \n",
    "    for w_b in words_b: #get 1 work from words_b\n",
    "      anagram = True\n",
    "      if (not is_case_sensitive): #if case sensitive FALSE change the words to lower case\n",
    "        w_b=w_b.lower()\n",
    "            \n",
    "      for c in w_a: #compare the characters to check if anagram\n",
    "        if c not in w_b:\n",
    "          anagram = False\n",
    "          break\n",
    "      \n",
    "      result.append(anagram) #save if the combination anagram or not\n",
    "\n",
    "  #reference: True + True = 2 / True + False = 1 / False + False = 0\n",
    "  if (result[0] + result[1] > 0) and (result[2] + result[3] > 0):\n",
    "    return True\n",
    "  else:\n",
    "    return False\n",
    "\n",
    "# Create your own words of potential anagrams and use your checker to check it"
   ]
  },
  {
   "cell_type": "code",
   "execution_count": 37,
   "metadata": {},
   "outputs": [
    {
     "data": {
      "text/plain": [
       "True"
      ]
     },
     "execution_count": 37,
     "metadata": {},
     "output_type": "execute_result"
    }
   ],
   "source": [
    "anagram_checker([\"Slient\", \"night\"], [\"thing\", \"listen\"], False) # True"
   ]
  },
  {
   "cell_type": "code",
   "execution_count": 38,
   "metadata": {},
   "outputs": [
    {
     "data": {
      "text/plain": [
       "False"
      ]
     },
     "execution_count": 38,
     "metadata": {},
     "output_type": "execute_result"
    }
   ],
   "source": [
    "anagram_checker([\"Slient\", \"thing\"], [\"night\", \"slient\"], True) # False"
   ]
  },
  {
   "cell_type": "markdown",
   "metadata": {},
   "source": [
    "|Criteria|Pass|Fail|\n",
    "|---|---|---|\n",
    "|Code Execution|All code cells execute without errors.|Any code cell produces an error upon execution.|\n",
    "|Code Quality|Code is well-organized, concise, and includes necessary comments for clarity. E.g. Great use of variable names.|Code is unorganized, verbose, or lacks necessary comments. E.g. Single character variable names outside of loops.|"
   ]
  },
  {
   "cell_type": "markdown",
   "metadata": {},
   "source": [
    "## Submission Information\n",
    "\n",
    "🚨**Please review our [Assignment Submission Guide](https://github.com/UofT-DSI/onboarding/blob/main/onboarding_documents/submissions.md)**🚨 for detailed instructions on how to format, branch, and submit your work. Following these guidelines is crucial for your submissions to be evaluated correctly.\n",
    "\n",
    "### Submission Parameters:\n",
    "* Submission Due Date: `11:59 PM - 05/05/2024`\n",
    "* The branch name for your repo should be: `assignment-1`\n",
    "* What to submit for this assignment:\n",
    "    * This Jupyter Notebook (assignment_1.ipynb) should be populated and should be the only change in your pull request.\n",
    "* What the pull request link should look like for this assignment: `https://github.com/<your_github_username>/python/pull/<pr_id>`\n",
    "    * Open a private window in your browser. Copy and paste the link to your pull request into the address bar. Make sure you can see your pull request properly. This helps the technical facilitator and learning support staff review your submission easily.\n",
    "\n",
    "Checklist:\n",
    "- [x] Created a branch with the correct naming convention.\n",
    "- [x] Ensured that the repository is public.\n",
    "- [x] Reviewed the PR description guidelines and adhered to them.\n",
    "- [x] Verify that the link is accessible in a private browser window.\n",
    "\n",
    "If you encounter any difficulties or have questions, please don't hesitate to reach out to our team via our Slack at `#cohort-3-help`. Our Technical Facilitators and Learning Support staff are here to help you navigate any challenges."
   ]
  }
 ],
 "metadata": {
  "kernelspec": {
   "display_name": "new-learner",
   "language": "python",
   "name": "python3"
  },
  "language_info": {
   "codemirror_mode": {
    "name": "ipython",
    "version": 3
   },
   "file_extension": ".py",
   "mimetype": "text/x-python",
   "name": "python",
   "nbconvert_exporter": "python",
   "pygments_lexer": "ipython3",
   "version": "3.9.15"
  }
 },
 "nbformat": 4,
 "nbformat_minor": 2
}
